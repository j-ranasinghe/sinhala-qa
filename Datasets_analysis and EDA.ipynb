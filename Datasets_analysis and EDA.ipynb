{
 "cells": [
  {
   "cell_type": "markdown",
   "metadata": {},
   "source": [
    "# Script to Analyze Translated dataset and Seed Dataset and perform EDA"
   ]
  },
  {
   "cell_type": "markdown",
   "metadata": {},
   "source": [
    "### Import libraries"
   ]
  },
  {
   "cell_type": "code",
   "execution_count": 2,
   "metadata": {},
   "outputs": [],
   "source": [
    "import pandas as pd\n",
    "import numpy as np\n",
    "import matplotlib.pyplot as plt\n",
    "import seaborn as sns"
   ]
  },
  {
   "cell_type": "markdown",
   "metadata": {},
   "source": [
    "### Load Datasets \n",
    " 1. Translated Sinhala Dataset\n",
    " 2. Manually Annotated Seed Dataset\n",
    " 3. English SQuAD v1.0 "
   ]
  },
  {
   "cell_type": "code",
   "execution_count": 3,
   "metadata": {},
   "outputs": [],
   "source": [
    "# Sinhala Datasets\n",
    "train = pd.read_csv(r'D:\\Desktop\\FY\\FYP\\QA_Translator\\Notebooks_v1\\data\\train.csv') # Translated Train set\n",
    "test = pd.read_csv(r'D:\\Desktop\\FY\\FYP\\QA_Translator\\Notebooks_v1\\data\\test.csv') # Translated Test set\n",
    "dev = pd.read_csv(r'D:\\Desktop\\FY\\FYP\\QA_Translator\\Notebooks_v1\\data\\dev.csv') # Translated Dev set\n",
    "Seed = pd.read_csv(r'D:\\Desktop\\FY\\FYP\\QA_Translator\\SEEDData.csv') # Seed dataset"
   ]
  },
  {
   "cell_type": "code",
   "execution_count": 4,
   "metadata": {},
   "outputs": [],
   "source": [
    "# SQuAD v1.0 \n",
    "En_df = pd.read_csv(r'D:\\Desktop\\FY\\FYP\\QA_Translator\\Notebooks_v1\\data\\SQUAD_data.csv')"
   ]
  },
  {
   "cell_type": "code",
   "execution_count": 5,
   "metadata": {},
   "outputs": [],
   "source": [
    "#  Adjust SQuAD to easy for analysis\n",
    "En_df = En_df.dropna()\n",
    "En_df = En_df.replace('', np.nan)\n",
    "En_df = En_df.dropna()\n",
    "En_df = En_df[En_df.astype(str).apply(lambda x: x.str.len().gt(0)).all(axis=1)]"
   ]
  },
  {
   "cell_type": "markdown",
   "metadata": {},
   "source": [
    "### SHapes of dataset "
   ]
  },
  {
   "cell_type": "code",
   "execution_count": 6,
   "metadata": {},
   "outputs": [
    {
     "data": {
      "text/plain": [
       "((13500, 6), (1250, 10), (1250, 6), (87596, 5), (304, 5))"
      ]
     },
     "execution_count": 6,
     "metadata": {},
     "output_type": "execute_result"
    }
   ],
   "source": [
    "# shapes of dataset\n",
    "train.shape, test.shape, dev.shape, En_df.shape, Seed.shape"
   ]
  },
  {
   "cell_type": "markdown",
   "metadata": {},
   "source": [
    "### Print datasets"
   ]
  },
  {
   "cell_type": "code",
   "execution_count": 7,
   "metadata": {},
   "outputs": [
    {
     "data": {
      "text/html": [
       "<div>\n",
       "<style scoped>\n",
       "    .dataframe tbody tr th:only-of-type {\n",
       "        vertical-align: middle;\n",
       "    }\n",
       "\n",
       "    .dataframe tbody tr th {\n",
       "        vertical-align: top;\n",
       "    }\n",
       "\n",
       "    .dataframe thead th {\n",
       "        text-align: right;\n",
       "    }\n",
       "</style>\n",
       "<table border=\"1\" class=\"dataframe\">\n",
       "  <thead>\n",
       "    <tr style=\"text-align: right;\">\n",
       "      <th></th>\n",
       "      <th>Index</th>\n",
       "      <th>id</th>\n",
       "      <th>context</th>\n",
       "      <th>question</th>\n",
       "      <th>answer_text</th>\n",
       "      <th>answer_start</th>\n",
       "    </tr>\n",
       "  </thead>\n",
       "  <tbody>\n",
       "    <tr>\n",
       "      <th>0</th>\n",
       "      <td>23174</td>\n",
       "      <td>56d9b69cdc89441400fdb728</td>\n",
       "      <td>කොයෝට් සහ විශාල බළලුන් ද බල්ලන්ට පහර දෙන බව දන...</td>\n",
       "      <td>බල්ලන් අනුභව කරන උරග වර්ග මොනවාද?</td>\n",
       "      <td>කිඹුලන් සහ පිඹුරන්</td>\n",
       "      <td>415</td>\n",
       "    </tr>\n",
       "    <tr>\n",
       "      <th>1</th>\n",
       "      <td>15815</td>\n",
       "      <td>572fd2b4b2c2fd14005684b5</td>\n",
       "      <td>පළමු නාවික සටන් කිහිපය රෝමයට ව්යසනකාරී විය. කෙ...</td>\n",
       "      <td>රෝමවරුන්ට එරෙහිව කිහිප වතාවක් පරාජයට පත්වීමෙන්...</td>\n",
       "      <td>සැන්තිපස්</td>\n",
       "      <td>344</td>\n",
       "    </tr>\n",
       "    <tr>\n",
       "      <th>2</th>\n",
       "      <td>32102</td>\n",
       "      <td>570c6902fed7b91900d459bb</td>\n",
       "      <td>වෝල්ටර්ගේ මරණයෙන් පසු නොර්විච් හි බිෂොප් සහ ඔහ...</td>\n",
       "      <td>ජෝන් ඩි ග්රේට ඔවුන්ගේ සහයෝගය වෙනස් කිරීමට ජෝන්...</td>\n",
       "      <td>කැන්ටබරි පරිච්ඡේදය</td>\n",
       "      <td>566</td>\n",
       "    </tr>\n",
       "    <tr>\n",
       "      <th>3</th>\n",
       "      <td>22806</td>\n",
       "      <td>56d29d4659d6e41400146144</td>\n",
       "      <td>මහායාන සූත්ර යනු මහායාන බෞද්ධ සම්ප්රදාය විසින්...</td>\n",
       "      <td>බුදුන් වහන්සේගේ මුල් ඉගැන්වීම් ලෙස සැලකෙන්නේ ම...</td>\n",
       "      <td>මහායාන සූත්ර</td>\n",
       "      <td>0</td>\n",
       "    </tr>\n",
       "    <tr>\n",
       "      <th>4</th>\n",
       "      <td>13725</td>\n",
       "      <td>572ee9b1dfa6aa1500f8d4cb</td>\n",
       "      <td>ක්රි.ව. 208 දී රතු කඳු බෑවුම්වල නාවික සටනේදී ක...</td>\n",
       "      <td>ක්රිස්තු වර්ෂ 208 දී රතු කඳු බෑවුම් සටනේදී පරා...</td>\n",
       "      <td>කාඕ</td>\n",
       "      <td>45</td>\n",
       "    </tr>\n",
       "  </tbody>\n",
       "</table>\n",
       "</div>"
      ],
      "text/plain": [
       "   Index                        id  \\\n",
       "0  23174  56d9b69cdc89441400fdb728   \n",
       "1  15815  572fd2b4b2c2fd14005684b5   \n",
       "2  32102  570c6902fed7b91900d459bb   \n",
       "3  22806  56d29d4659d6e41400146144   \n",
       "4  13725  572ee9b1dfa6aa1500f8d4cb   \n",
       "\n",
       "                                             context  \\\n",
       "0  කොයෝට් සහ විශාල බළලුන් ද බල්ලන්ට පහර දෙන බව දන...   \n",
       "1  පළමු නාවික සටන් කිහිපය රෝමයට ව්යසනකාරී විය. කෙ...   \n",
       "2  වෝල්ටර්ගේ මරණයෙන් පසු නොර්විච් හි බිෂොප් සහ ඔහ...   \n",
       "3  මහායාන සූත්ර යනු මහායාන බෞද්ධ සම්ප්රදාය විසින්...   \n",
       "4  ක්රි.ව. 208 දී රතු කඳු බෑවුම්වල නාවික සටනේදී ක...   \n",
       "\n",
       "                                            question         answer_text  \\\n",
       "0                  බල්ලන් අනුභව කරන උරග වර්ග මොනවාද?  කිඹුලන් සහ පිඹුරන්   \n",
       "1  රෝමවරුන්ට එරෙහිව කිහිප වතාවක් පරාජයට පත්වීමෙන්...           සැන්තිපස්   \n",
       "2  ජෝන් ඩි ග්රේට ඔවුන්ගේ සහයෝගය වෙනස් කිරීමට ජෝන්...  කැන්ටබරි පරිච්ඡේදය   \n",
       "3  බුදුන් වහන්සේගේ මුල් ඉගැන්වීම් ලෙස සැලකෙන්නේ ම...        මහායාන සූත්ර   \n",
       "4  ක්රිස්තු වර්ෂ 208 දී රතු කඳු බෑවුම් සටනේදී පරා...                 කාඕ   \n",
       "\n",
       "   answer_start  \n",
       "0           415  \n",
       "1           344  \n",
       "2           566  \n",
       "3             0  \n",
       "4            45  "
      ]
     },
     "execution_count": 7,
     "metadata": {},
     "output_type": "execute_result"
    }
   ],
   "source": [
    "train.head(5)"
   ]
  },
  {
   "cell_type": "code",
   "execution_count": 7,
   "metadata": {},
   "outputs": [
    {
     "data": {
      "text/html": [
       "<div>\n",
       "<style scoped>\n",
       "    .dataframe tbody tr th:only-of-type {\n",
       "        vertical-align: middle;\n",
       "    }\n",
       "\n",
       "    .dataframe tbody tr th {\n",
       "        vertical-align: top;\n",
       "    }\n",
       "\n",
       "    .dataframe thead th {\n",
       "        text-align: right;\n",
       "    }\n",
       "</style>\n",
       "<table border=\"1\" class=\"dataframe\">\n",
       "  <thead>\n",
       "    <tr style=\"text-align: right;\">\n",
       "      <th></th>\n",
       "      <th>Index</th>\n",
       "      <th>id</th>\n",
       "      <th>context</th>\n",
       "      <th>question</th>\n",
       "      <th>answer_text</th>\n",
       "      <th>answer_start</th>\n",
       "    </tr>\n",
       "  </thead>\n",
       "  <tbody>\n",
       "    <tr>\n",
       "      <th>0</th>\n",
       "      <td>31226</td>\n",
       "      <td>570b38466b8089140040f814</td>\n",
       "      <td>1689 සිට, උතුරු ඇමරිකාව පාලනය කිරීම සඳහා මහා බ...</td>\n",
       "      <td>ප්රංශ සහ ඉන්දියානු යුද්ධයේදී සටන් කළ අනාගත ඇමර...</td>\n",
       "      <td>ජෝර්ජ් වොෂින්ටන්</td>\n",
       "      <td>371</td>\n",
       "    </tr>\n",
       "    <tr>\n",
       "      <th>1</th>\n",
       "      <td>37977</td>\n",
       "      <td>56e17e6ee3433e1400422f7f</td>\n",
       "      <td>ගැටලුවක් සහ අවස්ථාවක් අතර වෙනස තවදුරටත් උද්දීප...</td>\n",
       "      <td>සංචාරක විකුණුම්කරුගේ ගැටලුව ජර්මනියේ විශාලතම න...</td>\n",
       "      <td>2000</td>\n",
       "      <td>167</td>\n",
       "    </tr>\n",
       "    <tr>\n",
       "      <th>2</th>\n",
       "      <td>1375</td>\n",
       "      <td>57277421708984140094ddf7</td>\n",
       "      <td>1456 දී ඔටෝමන්වරුන්ට එරෙහිව බෙල්ග්රේඩ් වටලෑමේද...</td>\n",
       "      <td>බෙල්ග්රේඩ් වැටලීමේදී මුස්ලිම්වරුන්ට එරෙහිව සටන...</td>\n",
       "      <td>කැපිස්ට්රානෝහි ශාන්ත ජෝන්</td>\n",
       "      <td>203</td>\n",
       "    </tr>\n",
       "    <tr>\n",
       "      <th>3</th>\n",
       "      <td>11434</td>\n",
       "      <td>572ac29334ae481900deacc4</td>\n",
       "      <td>බොහෝ විශ්ලේෂණයන් කෙරීගේ ඡන්ද වාර්තාව සෙනෙට් ප්...</td>\n",
       "      <td>කෙරී &amp;#39;ඉහළම සෙනෙට් ලිබරල්&amp;#39; ලෙස හැඳින්වූ...</td>\n",
       "      <td>2003</td>\n",
       "      <td>201</td>\n",
       "    </tr>\n",
       "    <tr>\n",
       "      <th>4</th>\n",
       "      <td>12275</td>\n",
       "      <td>57316d8b05b4da19006bd144</td>\n",
       "      <td>ගඩාෆි රාජාණ්ඩුව විවේචනය කරමින් පෙළපාලි සංවිධාන...</td>\n",
       "      <td>ගඩාෆි සභාවෙන් පන්නා දැමූ පසු ඔහු ගියේ කොහේද?</td>\n",
       "      <td>මිස්රාටා</td>\n",
       "      <td>334</td>\n",
       "    </tr>\n",
       "  </tbody>\n",
       "</table>\n",
       "</div>"
      ],
      "text/plain": [
       "   Index                        id  \\\n",
       "0  31226  570b38466b8089140040f814   \n",
       "1  37977  56e17e6ee3433e1400422f7f   \n",
       "2   1375  57277421708984140094ddf7   \n",
       "3  11434  572ac29334ae481900deacc4   \n",
       "4  12275  57316d8b05b4da19006bd144   \n",
       "\n",
       "                                             context  \\\n",
       "0  1689 සිට, උතුරු ඇමරිකාව පාලනය කිරීම සඳහා මහා බ...   \n",
       "1  ගැටලුවක් සහ අවස්ථාවක් අතර වෙනස තවදුරටත් උද්දීප...   \n",
       "2  1456 දී ඔටෝමන්වරුන්ට එරෙහිව බෙල්ග්රේඩ් වටලෑමේද...   \n",
       "3  බොහෝ විශ්ලේෂණයන් කෙරීගේ ඡන්ද වාර්තාව සෙනෙට් ප්...   \n",
       "4  ගඩාෆි රාජාණ්ඩුව විවේචනය කරමින් පෙළපාලි සංවිධාන...   \n",
       "\n",
       "                                            question  \\\n",
       "0  ප්රංශ සහ ඉන්දියානු යුද්ධයේදී සටන් කළ අනාගත ඇමර...   \n",
       "1  සංචාරක විකුණුම්කරුගේ ගැටලුව ජර්මනියේ විශාලතම න...   \n",
       "2  බෙල්ග්රේඩ් වැටලීමේදී මුස්ලිම්වරුන්ට එරෙහිව සටන...   \n",
       "3  කෙරී &#39;ඉහළම සෙනෙට් ලිබරල්&#39; ලෙස හැඳින්වූ...   \n",
       "4       ගඩාෆි සභාවෙන් පන්නා දැමූ පසු ඔහු ගියේ කොහේද?   \n",
       "\n",
       "                 answer_text  answer_start  \n",
       "0           ජෝර්ජ් වොෂින්ටන්           371  \n",
       "1                       2000           167  \n",
       "2  කැපිස්ට්රානෝහි ශාන්ත ජෝන්           203  \n",
       "3                       2003           201  \n",
       "4                   මිස්රාටා           334  "
      ]
     },
     "execution_count": 7,
     "metadata": {},
     "output_type": "execute_result"
    }
   ],
   "source": [
    "dev.head(5)"
   ]
  },
  {
   "cell_type": "code",
   "execution_count": 8,
   "metadata": {},
   "outputs": [
    {
     "data": {
      "text/html": [
       "<div>\n",
       "<style scoped>\n",
       "    .dataframe tbody tr th:only-of-type {\n",
       "        vertical-align: middle;\n",
       "    }\n",
       "\n",
       "    .dataframe tbody tr th {\n",
       "        vertical-align: top;\n",
       "    }\n",
       "\n",
       "    .dataframe thead th {\n",
       "        text-align: right;\n",
       "    }\n",
       "</style>\n",
       "<table border=\"1\" class=\"dataframe\">\n",
       "  <thead>\n",
       "    <tr style=\"text-align: right;\">\n",
       "      <th></th>\n",
       "      <th>Index</th>\n",
       "      <th>id</th>\n",
       "      <th>context</th>\n",
       "      <th>question</th>\n",
       "      <th>answer_text</th>\n",
       "      <th>answer_start</th>\n",
       "      <th>question_type</th>\n",
       "      <th>question_length</th>\n",
       "      <th>context_length</th>\n",
       "      <th>answer_length</th>\n",
       "    </tr>\n",
       "  </thead>\n",
       "  <tbody>\n",
       "    <tr>\n",
       "      <th>0</th>\n",
       "      <td>17322</td>\n",
       "      <td>57309733396df919000961dc</td>\n",
       "      <td>බොහෝ ගුවන්තොටුපළවල් එම ස්ථානයේදීම රූගත කිරීම් ...</td>\n",
       "      <td>ගොඩබිම, රූගත කිරීම් කළ හැක්කේ කොහේද?</td>\n",
       "      <td>සියලුම පොදු ප්රදේශ</td>\n",
       "      <td>149</td>\n",
       "      <td>Where</td>\n",
       "      <td>6</td>\n",
       "      <td>104</td>\n",
       "      <td>3</td>\n",
       "    </tr>\n",
       "    <tr>\n",
       "      <th>1</th>\n",
       "      <td>4765</td>\n",
       "      <td>5727784ff1498d1400e8f902</td>\n",
       "      <td>ඩිමොක්රටික් පක්ෂය ව්යවස්ථාදායකයට සහ ආණ්ඩුකාර ධ...</td>\n",
       "      <td>ද්විවාර්ගික ජනතාවාදී එකමුතුවක් ආණ්ඩුකාර ධුරය ල...</td>\n",
       "      <td>1896</td>\n",
       "      <td>142</td>\n",
       "      <td>Which</td>\n",
       "      <td>9</td>\n",
       "      <td>75</td>\n",
       "      <td>1</td>\n",
       "    </tr>\n",
       "    <tr>\n",
       "      <th>2</th>\n",
       "      <td>2693</td>\n",
       "      <td>5726aefadd62a815002e8cec</td>\n",
       "      <td>1500 ගණන්වලදී, ගැලන් ප්රසිද්ධියේ විවේචනය කළ පළ...</td>\n",
       "      <td>1500 ගණන්වල ගැලන් විවේචනය කළේ කවුද?</td>\n",
       "      <td>පැරසෙල්සස්</td>\n",
       "      <td>58</td>\n",
       "      <td>Who</td>\n",
       "      <td>6</td>\n",
       "      <td>141</td>\n",
       "      <td>1</td>\n",
       "    </tr>\n",
       "    <tr>\n",
       "      <th>3</th>\n",
       "      <td>26567</td>\n",
       "      <td>56e963a699e8941900975f8b</td>\n",
       "      <td>2009-10 පාසල් වර්ෂය තුළ, බර්න්හි පන්තිවලට සහභා...</td>\n",
       "      <td>ප්රාථමික පන්ති කීයක් තිබුණාද?</td>\n",
       "      <td>266</td>\n",
       "      <td>316</td>\n",
       "      <td>How much</td>\n",
       "      <td>4</td>\n",
       "      <td>105</td>\n",
       "      <td>1</td>\n",
       "    </tr>\n",
       "    <tr>\n",
       "      <th>4</th>\n",
       "      <td>7213</td>\n",
       "      <td>5727e51fff5b5019007d97be</td>\n",
       "      <td>විධායක ශාඛාව ආණ්ඩුකාරවරයා, ඔවුන්ගේ කාර්ය මණ්ඩල...</td>\n",
       "      <td>විධායක අංශයේ කවුද ඉන්නේ?</td>\n",
       "      <td>ආණ්ඩුකාරවරයා, ඔවුන්ගේ කාර්ය මණ්ඩලය සහ අනෙකුත් ...</td>\n",
       "      <td>13</td>\n",
       "      <td>Who</td>\n",
       "      <td>4</td>\n",
       "      <td>78</td>\n",
       "      <td>10</td>\n",
       "    </tr>\n",
       "  </tbody>\n",
       "</table>\n",
       "</div>"
      ],
      "text/plain": [
       "   Index                        id  \\\n",
       "0  17322  57309733396df919000961dc   \n",
       "1   4765  5727784ff1498d1400e8f902   \n",
       "2   2693  5726aefadd62a815002e8cec   \n",
       "3  26567  56e963a699e8941900975f8b   \n",
       "4   7213  5727e51fff5b5019007d97be   \n",
       "\n",
       "                                             context  \\\n",
       "0  බොහෝ ගුවන්තොටුපළවල් එම ස්ථානයේදීම රූගත කිරීම් ...   \n",
       "1  ඩිමොක්රටික් පක්ෂය ව්යවස්ථාදායකයට සහ ආණ්ඩුකාර ධ...   \n",
       "2  1500 ගණන්වලදී, ගැලන් ප්රසිද්ධියේ විවේචනය කළ පළ...   \n",
       "3  2009-10 පාසල් වර්ෂය තුළ, බර්න්හි පන්තිවලට සහභා...   \n",
       "4  විධායක ශාඛාව ආණ්ඩුකාරවරයා, ඔවුන්ගේ කාර්ය මණ්ඩල...   \n",
       "\n",
       "                                            question  \\\n",
       "0               ගොඩබිම, රූගත කිරීම් කළ හැක්කේ කොහේද?   \n",
       "1  ද්විවාර්ගික ජනතාවාදී එකමුතුවක් ආණ්ඩුකාර ධුරය ල...   \n",
       "2                1500 ගණන්වල ගැලන් විවේචනය කළේ කවුද?   \n",
       "3                      ප්රාථමික පන්ති කීයක් තිබුණාද?   \n",
       "4                           විධායක අංශයේ කවුද ඉන්නේ?   \n",
       "\n",
       "                                         answer_text  answer_start  \\\n",
       "0                                 සියලුම පොදු ප්රදේශ           149   \n",
       "1                                               1896           142   \n",
       "2                                         පැරසෙල්සස්            58   \n",
       "3                                                266           316   \n",
       "4  ආණ්ඩුකාරවරයා, ඔවුන්ගේ කාර්ය මණ්ඩලය සහ අනෙකුත් ...            13   \n",
       "\n",
       "  question_type  question_length  context_length  answer_length  \n",
       "0         Where                6             104              3  \n",
       "1         Which                9              75              1  \n",
       "2           Who                6             141              1  \n",
       "3      How much                4             105              1  \n",
       "4           Who                4              78             10  "
      ]
     },
     "execution_count": 8,
     "metadata": {},
     "output_type": "execute_result"
    }
   ],
   "source": [
    "test.head(5)"
   ]
  },
  {
   "cell_type": "code",
   "execution_count": 9,
   "metadata": {},
   "outputs": [
    {
     "data": {
      "text/html": [
       "<div>\n",
       "<style scoped>\n",
       "    .dataframe tbody tr th:only-of-type {\n",
       "        vertical-align: middle;\n",
       "    }\n",
       "\n",
       "    .dataframe tbody tr th {\n",
       "        vertical-align: top;\n",
       "    }\n",
       "\n",
       "    .dataframe thead th {\n",
       "        text-align: right;\n",
       "    }\n",
       "</style>\n",
       "<table border=\"1\" class=\"dataframe\">\n",
       "  <thead>\n",
       "    <tr style=\"text-align: right;\">\n",
       "      <th></th>\n",
       "      <th>id</th>\n",
       "      <th>context</th>\n",
       "      <th>question</th>\n",
       "      <th>answer_text</th>\n",
       "      <th>answer_start</th>\n",
       "    </tr>\n",
       "  </thead>\n",
       "  <tbody>\n",
       "    <tr>\n",
       "      <th>0</th>\n",
       "      <td>0083f5e20c024f32967a1b52</td>\n",
       "      <td>පවතින අයහපත් කාලගුණය හේතුවෙන් දිවයිනේ දිස්ත්‍ර...</td>\n",
       "      <td>කුමන ප්‍රාදේශීය ලේකම් කොට්ඨාස වලට නායයාමේ අනතු...</td>\n",
       "      <td>ගාල්ල දිස්ත්‍රික්කයේ නෙළුව, ඇල්පිටිය, නාගොඩ, ය...</td>\n",
       "      <td>184</td>\n",
       "    </tr>\n",
       "    <tr>\n",
       "      <th>1</th>\n",
       "      <td>0083f5e20c024f32967a1b52_2</td>\n",
       "      <td>පවතින අයහපත් කාලගුණය හේතුවෙන් දිවයිනේ දිස්ත්‍ර...</td>\n",
       "      <td>නායයාමේ අනතුරු ඇඟවීමේ නිවේදනයක් කවර කාලය සඳහා ...</td>\n",
       "      <td>16 දින රාත්‍රි 7.30 සිට 17 රාත්‍රී 7.30</td>\n",
       "      <td>384</td>\n",
       "    </tr>\n",
       "    <tr>\n",
       "      <th>2</th>\n",
       "      <td>008d93af0df641b5bad457ce</td>\n",
       "      <td>වෙසක් සිරි නැරඹීම සඳහා පිරිසක් සමඟ යමින් සිටි ...</td>\n",
       "      <td>වෙසක් සිරි නරඹීම සඳහා ගිය පුද්ගලයාට පිහි ඇන සි...</td>\n",
       "      <td>ඔරුගොඩවත්ත</td>\n",
       "      <td>57</td>\n",
       "    </tr>\n",
       "    <tr>\n",
       "      <th>3</th>\n",
       "      <td>008d93af0df641b5bad457ce_2</td>\n",
       "      <td>වෙසක් සිරි නැරඹීම සඳහා පිරිසක් සමඟ යමින් සිටි ...</td>\n",
       "      <td>ඝාතනයට ලක්වූ පුද්ගලයාගේ නම කුමක්ද?</td>\n",
       "      <td>ලුක්ශාන්</td>\n",
       "      <td>264</td>\n",
       "    </tr>\n",
       "    <tr>\n",
       "      <th>4</th>\n",
       "      <td>018419bf18804ef2816abad0</td>\n",
       "      <td>කොළඹ පාරිභෝගික මිල දර්ශකය අනුව උද්ධමන අනුපාතය ...</td>\n",
       "      <td>අගෝස්තු මාසයේ කොළඹ උද්ධමන අනුපාතය කීයද?</td>\n",
       "      <td>0.5</td>\n",
       "      <td>64</td>\n",
       "    </tr>\n",
       "  </tbody>\n",
       "</table>\n",
       "</div>"
      ],
      "text/plain": [
       "                           id  \\\n",
       "0    0083f5e20c024f32967a1b52   \n",
       "1  0083f5e20c024f32967a1b52_2   \n",
       "2    008d93af0df641b5bad457ce   \n",
       "3  008d93af0df641b5bad457ce_2   \n",
       "4    018419bf18804ef2816abad0   \n",
       "\n",
       "                                             context  \\\n",
       "0  පවතින අයහපත් කාලගුණය හේතුවෙන් දිවයිනේ දිස්ත්‍ර...   \n",
       "1  පවතින අයහපත් කාලගුණය හේතුවෙන් දිවයිනේ දිස්ත්‍ර...   \n",
       "2  වෙසක් සිරි නැරඹීම සඳහා පිරිසක් සමඟ යමින් සිටි ...   \n",
       "3  වෙසක් සිරි නැරඹීම සඳහා පිරිසක් සමඟ යමින් සිටි ...   \n",
       "4  කොළඹ පාරිභෝගික මිල දර්ශකය අනුව උද්ධමන අනුපාතය ...   \n",
       "\n",
       "                                            question  \\\n",
       "0  කුමන ප්‍රාදේශීය ලේකම් කොට්ඨාස වලට නායයාමේ අනතු...   \n",
       "1  නායයාමේ අනතුරු ඇඟවීමේ නිවේදනයක් කවර කාලය සඳහා ...   \n",
       "2  වෙසක් සිරි නරඹීම සඳහා ගිය පුද්ගලයාට පිහි ඇන සි...   \n",
       "3                 ඝාතනයට ලක්වූ පුද්ගලයාගේ නම කුමක්ද?   \n",
       "4            අගෝස්තු මාසයේ කොළඹ උද්ධමන අනුපාතය කීයද?   \n",
       "\n",
       "                                         answer_text  answer_start  \n",
       "0  ගාල්ල දිස්ත්‍රික්කයේ නෙළුව, ඇල්පිටිය, නාගොඩ, ය...           184  \n",
       "1           16 දින රාත්‍රි 7.30 සිට 17 රාත්‍රී 7.30            384  \n",
       "2                                         ඔරුගොඩවත්ත            57  \n",
       "3                                           ලුක්ශාන්           264  \n",
       "4                                                0.5            64  "
      ]
     },
     "execution_count": 9,
     "metadata": {},
     "output_type": "execute_result"
    }
   ],
   "source": [
    "Seed.head(5)  # seed dataset"
   ]
  },
  {
   "cell_type": "code",
   "execution_count": 10,
   "metadata": {},
   "outputs": [
    {
     "data": {
      "text/html": [
       "<div>\n",
       "<style scoped>\n",
       "    .dataframe tbody tr th:only-of-type {\n",
       "        vertical-align: middle;\n",
       "    }\n",
       "\n",
       "    .dataframe tbody tr th {\n",
       "        vertical-align: top;\n",
       "    }\n",
       "\n",
       "    .dataframe thead th {\n",
       "        text-align: right;\n",
       "    }\n",
       "</style>\n",
       "<table border=\"1\" class=\"dataframe\">\n",
       "  <thead>\n",
       "    <tr style=\"text-align: right;\">\n",
       "      <th></th>\n",
       "      <th>id</th>\n",
       "      <th>context</th>\n",
       "      <th>question</th>\n",
       "      <th>answer_text</th>\n",
       "      <th>answer_start</th>\n",
       "    </tr>\n",
       "  </thead>\n",
       "  <tbody>\n",
       "    <tr>\n",
       "      <th>0</th>\n",
       "      <td>5733be284776f41900661182</td>\n",
       "      <td>Architecturally, the school has a Catholic cha...</td>\n",
       "      <td>To whom did the Virgin Mary allegedly appear i...</td>\n",
       "      <td>Saint Bernadette Soubirous</td>\n",
       "      <td>515</td>\n",
       "    </tr>\n",
       "    <tr>\n",
       "      <th>1</th>\n",
       "      <td>5733be284776f4190066117f</td>\n",
       "      <td>Architecturally, the school has a Catholic cha...</td>\n",
       "      <td>What is in front of the Notre Dame Main Building?</td>\n",
       "      <td>a copper statue of Christ</td>\n",
       "      <td>188</td>\n",
       "    </tr>\n",
       "    <tr>\n",
       "      <th>2</th>\n",
       "      <td>5733be284776f41900661180</td>\n",
       "      <td>Architecturally, the school has a Catholic cha...</td>\n",
       "      <td>The Basilica of the Sacred heart at Notre Dame...</td>\n",
       "      <td>the Main Building</td>\n",
       "      <td>279</td>\n",
       "    </tr>\n",
       "    <tr>\n",
       "      <th>3</th>\n",
       "      <td>5733be284776f41900661181</td>\n",
       "      <td>Architecturally, the school has a Catholic cha...</td>\n",
       "      <td>What is the Grotto at Notre Dame?</td>\n",
       "      <td>a Marian place of prayer and reflection</td>\n",
       "      <td>381</td>\n",
       "    </tr>\n",
       "    <tr>\n",
       "      <th>4</th>\n",
       "      <td>5733be284776f4190066117e</td>\n",
       "      <td>Architecturally, the school has a Catholic cha...</td>\n",
       "      <td>What sits on top of the Main Building at Notre...</td>\n",
       "      <td>a golden statue of the Virgin Mary</td>\n",
       "      <td>92</td>\n",
       "    </tr>\n",
       "  </tbody>\n",
       "</table>\n",
       "</div>"
      ],
      "text/plain": [
       "                         id  \\\n",
       "0  5733be284776f41900661182   \n",
       "1  5733be284776f4190066117f   \n",
       "2  5733be284776f41900661180   \n",
       "3  5733be284776f41900661181   \n",
       "4  5733be284776f4190066117e   \n",
       "\n",
       "                                             context  \\\n",
       "0  Architecturally, the school has a Catholic cha...   \n",
       "1  Architecturally, the school has a Catholic cha...   \n",
       "2  Architecturally, the school has a Catholic cha...   \n",
       "3  Architecturally, the school has a Catholic cha...   \n",
       "4  Architecturally, the school has a Catholic cha...   \n",
       "\n",
       "                                            question  \\\n",
       "0  To whom did the Virgin Mary allegedly appear i...   \n",
       "1  What is in front of the Notre Dame Main Building?   \n",
       "2  The Basilica of the Sacred heart at Notre Dame...   \n",
       "3                  What is the Grotto at Notre Dame?   \n",
       "4  What sits on top of the Main Building at Notre...   \n",
       "\n",
       "                               answer_text  answer_start  \n",
       "0               Saint Bernadette Soubirous           515  \n",
       "1                a copper statue of Christ           188  \n",
       "2                        the Main Building           279  \n",
       "3  a Marian place of prayer and reflection           381  \n",
       "4       a golden statue of the Virgin Mary            92  "
      ]
     },
     "execution_count": 10,
     "metadata": {},
     "output_type": "execute_result"
    }
   ],
   "source": [
    "En_df.head(5)  # SQuAD v1.0"
   ]
  },
  {
   "cell_type": "code",
   "execution_count": 11,
   "metadata": {},
   "outputs": [],
   "source": [
    "# Computes the total and unique word count in the context passages of a DataFrame.\n",
    "\n",
    "def count_words_in_context(df, context_column='context'):\n",
    "    # Concatenate all context passages into one large string\n",
    "    all_text = \" \".join(df[context_column].astype(str))\n",
    "    \n",
    "    # Tokenize by whitespace\n",
    "    all_words = all_text.split()\n",
    "    \n",
    "    total_words = len(all_words)\n",
    "    unique_words = len(set(all_words))\n",
    "    \n",
    "    print(f\"Total Words in Contexts: {total_words}\")\n",
    "    print(f\"Unique Words in Contexts: {unique_words}\")\n",
    "    \n",
    "    return {\n",
    "        'total_words': total_words,\n",
    "        'unique_words': unique_words\n",
    "    }"
   ]
  },
  {
   "cell_type": "markdown",
   "metadata": {},
   "source": [
    "### Word count Analysis"
   ]
  },
  {
   "cell_type": "code",
   "execution_count": 12,
   "metadata": {},
   "outputs": [
    {
     "name": "stdout",
     "output_type": "stream",
     "text": [
      "Train Set Context Word Count:\n",
      "Total Words in Contexts: 1328209\n",
      "Unique Words in Contexts: 52896\n",
      "\n",
      "Test Set Context Word Count:\n",
      "Total Words in Contexts: 123008\n",
      "Unique Words in Contexts: 20190\n",
      "\n",
      "Dev Set Context Word Count:\n",
      "Total Words in Contexts: 122676\n",
      "Unique Words in Contexts: 20309\n",
      "\n",
      "Seed Context Word Count:\n",
      "Total Words in Contexts: 26035\n",
      "Unique Words in Contexts: 5857\n"
     ]
    }
   ],
   "source": [
    "print(\"Train Set Context Word Count:\")  \n",
    "counts = count_words_in_context(train)\n",
    "print(\"\\nTest Set Context Word Count:\")\n",
    "counts = count_words_in_context(test)\n",
    "print(\"\\nDev Set Context Word Count:\")\n",
    "counts = count_words_in_context(dev)\n",
    "print(\"\\nSeed Context Word Count:\")\n",
    "counts = count_words_in_context(Seed)"
   ]
  },
  {
   "cell_type": "markdown",
   "metadata": {},
   "source": [
    "### Question Type Analysis"
   ]
  },
  {
   "cell_type": "code",
   "execution_count": 13,
   "metadata": {},
   "outputs": [],
   "source": [
    "# Sample question words for each type taken from translated and Seed datasets\n",
    "question_types = {\n",
    "    \"What\": [\"කුමක්ද\", \"මොනවාද\", \"කුමක්\", \"මොනවා\", \"කුමකට\", \"කුමක\"],\n",
    "    \"When\": [\"කවදාද\", \"කවදා\", \"කෙදිනද\"],\n",
    "    \"Where\": [\"කොයි\", \"කොහේද\", \"කොතැනින්ද\"],\n",
    "    \"Why\": [\"ඇයි\"],\n",
    "    \"How much\": [\"කීය ද\", \"කීයකට\", \"කොච්චර\", \"කීයක්\", \"කොපමණ\", \"කෙතරම්\", \"කොතරම්\", \"කොහොමද\", \"කෙසේ\", \"කී\"],\n",
    "    \"Which\": [\"කවර\", \"කුමන\", \"මොන\"],\n",
    "    \"Who\": [\"කවුද\", \"කාටද\", \"කා\", \"කාගේ\", \"කවුරුන්\"]\n",
    "}"
   ]
  },
  {
   "cell_type": "code",
   "execution_count": 14,
   "metadata": {},
   "outputs": [],
   "source": [
    "# Function to determine question type based on keywords appearing anywhere in the question\n",
    "def get_question_type(question: str):\n",
    "    for q_type, keywords in question_types.items():\n",
    "        for keyword in keywords:\n",
    "            if keyword in question:  # Check if keyword appears anywhere in the question\n",
    "                return q_type\n",
    "    return \"Other\"  # Return \"Other\" if no match is found\n",
    "\n",
    "# Function to add question type and calculate counts/percentages\n",
    "def classify_questions(data: pd.DataFrame):\n",
    "    # Apply the function to classify question types\n",
    "    data['question_type'] = data['question'].apply(get_question_type)\n",
    "\n",
    "    # Count the occurrences of each question type\n",
    "    count_per_type = data['question_type'].value_counts()\n",
    "\n",
    "    # Calculate the percentage of each question type\n",
    "    percentage_per_type = (count_per_type / len(data)) * 100\n",
    "\n",
    "    # Create a results DataFrame with count and percentage\n",
    "    result = pd.DataFrame({\n",
    "        'question_type': count_per_type.index,  # Convert index to a column\n",
    "        'count': count_per_type.values,\n",
    "        'percentage': percentage_per_type.values\n",
    "    })\n",
    "\n",
    "    # # Print the summary results\n",
    "    # print(result)\n",
    "    \n",
    "    return result"
   ]
  },
  {
   "cell_type": "code",
   "execution_count": 15,
   "metadata": {},
   "outputs": [
    {
     "name": "stdout",
     "output_type": "stream",
     "text": [
      "Translated Train set\n"
     ]
    },
    {
     "data": {
      "text/html": [
       "<div>\n",
       "<style scoped>\n",
       "    .dataframe tbody tr th:only-of-type {\n",
       "        vertical-align: middle;\n",
       "    }\n",
       "\n",
       "    .dataframe tbody tr th {\n",
       "        vertical-align: top;\n",
       "    }\n",
       "\n",
       "    .dataframe thead th {\n",
       "        text-align: right;\n",
       "    }\n",
       "</style>\n",
       "<table border=\"1\" class=\"dataframe\">\n",
       "  <thead>\n",
       "    <tr style=\"text-align: right;\">\n",
       "      <th></th>\n",
       "      <th>question_type</th>\n",
       "      <th>count</th>\n",
       "      <th>percentage</th>\n",
       "    </tr>\n",
       "  </thead>\n",
       "  <tbody>\n",
       "    <tr>\n",
       "      <th>0</th>\n",
       "      <td>What</td>\n",
       "      <td>5175</td>\n",
       "      <td>38.333333</td>\n",
       "    </tr>\n",
       "    <tr>\n",
       "      <th>1</th>\n",
       "      <td>Which</td>\n",
       "      <td>3023</td>\n",
       "      <td>22.392593</td>\n",
       "    </tr>\n",
       "    <tr>\n",
       "      <th>2</th>\n",
       "      <td>How much</td>\n",
       "      <td>1744</td>\n",
       "      <td>12.918519</td>\n",
       "    </tr>\n",
       "    <tr>\n",
       "      <th>3</th>\n",
       "      <td>Who</td>\n",
       "      <td>1638</td>\n",
       "      <td>12.133333</td>\n",
       "    </tr>\n",
       "    <tr>\n",
       "      <th>4</th>\n",
       "      <td>When</td>\n",
       "      <td>1030</td>\n",
       "      <td>7.629630</td>\n",
       "    </tr>\n",
       "    <tr>\n",
       "      <th>5</th>\n",
       "      <td>Where</td>\n",
       "      <td>419</td>\n",
       "      <td>3.103704</td>\n",
       "    </tr>\n",
       "    <tr>\n",
       "      <th>6</th>\n",
       "      <td>Other</td>\n",
       "      <td>393</td>\n",
       "      <td>2.911111</td>\n",
       "    </tr>\n",
       "    <tr>\n",
       "      <th>7</th>\n",
       "      <td>Why</td>\n",
       "      <td>78</td>\n",
       "      <td>0.577778</td>\n",
       "    </tr>\n",
       "  </tbody>\n",
       "</table>\n",
       "</div>"
      ],
      "text/plain": [
       "  question_type  count  percentage\n",
       "0          What   5175   38.333333\n",
       "1         Which   3023   22.392593\n",
       "2      How much   1744   12.918519\n",
       "3           Who   1638   12.133333\n",
       "4          When   1030    7.629630\n",
       "5         Where    419    3.103704\n",
       "6         Other    393    2.911111\n",
       "7           Why     78    0.577778"
      ]
     },
     "execution_count": 15,
     "metadata": {},
     "output_type": "execute_result"
    }
   ],
   "source": [
    "print('Translated Train set')\n",
    "classify_questions(train)"
   ]
  },
  {
   "cell_type": "code",
   "execution_count": 16,
   "metadata": {},
   "outputs": [
    {
     "name": "stdout",
     "output_type": "stream",
     "text": [
      "Translated dev set\n"
     ]
    },
    {
     "data": {
      "text/html": [
       "<div>\n",
       "<style scoped>\n",
       "    .dataframe tbody tr th:only-of-type {\n",
       "        vertical-align: middle;\n",
       "    }\n",
       "\n",
       "    .dataframe tbody tr th {\n",
       "        vertical-align: top;\n",
       "    }\n",
       "\n",
       "    .dataframe thead th {\n",
       "        text-align: right;\n",
       "    }\n",
       "</style>\n",
       "<table border=\"1\" class=\"dataframe\">\n",
       "  <thead>\n",
       "    <tr style=\"text-align: right;\">\n",
       "      <th></th>\n",
       "      <th>question_type</th>\n",
       "      <th>count</th>\n",
       "      <th>percentage</th>\n",
       "    </tr>\n",
       "  </thead>\n",
       "  <tbody>\n",
       "    <tr>\n",
       "      <th>0</th>\n",
       "      <td>What</td>\n",
       "      <td>458</td>\n",
       "      <td>36.64</td>\n",
       "    </tr>\n",
       "    <tr>\n",
       "      <th>1</th>\n",
       "      <td>Which</td>\n",
       "      <td>287</td>\n",
       "      <td>22.96</td>\n",
       "    </tr>\n",
       "    <tr>\n",
       "      <th>2</th>\n",
       "      <td>How much</td>\n",
       "      <td>171</td>\n",
       "      <td>13.68</td>\n",
       "    </tr>\n",
       "    <tr>\n",
       "      <th>3</th>\n",
       "      <td>Who</td>\n",
       "      <td>139</td>\n",
       "      <td>11.12</td>\n",
       "    </tr>\n",
       "    <tr>\n",
       "      <th>4</th>\n",
       "      <td>When</td>\n",
       "      <td>103</td>\n",
       "      <td>8.24</td>\n",
       "    </tr>\n",
       "    <tr>\n",
       "      <th>5</th>\n",
       "      <td>Other</td>\n",
       "      <td>40</td>\n",
       "      <td>3.20</td>\n",
       "    </tr>\n",
       "    <tr>\n",
       "      <th>6</th>\n",
       "      <td>Where</td>\n",
       "      <td>37</td>\n",
       "      <td>2.96</td>\n",
       "    </tr>\n",
       "    <tr>\n",
       "      <th>7</th>\n",
       "      <td>Why</td>\n",
       "      <td>15</td>\n",
       "      <td>1.20</td>\n",
       "    </tr>\n",
       "  </tbody>\n",
       "</table>\n",
       "</div>"
      ],
      "text/plain": [
       "  question_type  count  percentage\n",
       "0          What    458       36.64\n",
       "1         Which    287       22.96\n",
       "2      How much    171       13.68\n",
       "3           Who    139       11.12\n",
       "4          When    103        8.24\n",
       "5         Other     40        3.20\n",
       "6         Where     37        2.96\n",
       "7           Why     15        1.20"
      ]
     },
     "execution_count": 16,
     "metadata": {},
     "output_type": "execute_result"
    }
   ],
   "source": [
    "print('Translated dev set')\n",
    "classify_questions(dev)"
   ]
  },
  {
   "cell_type": "code",
   "execution_count": 17,
   "metadata": {},
   "outputs": [
    {
     "name": "stdout",
     "output_type": "stream",
     "text": [
      "Translated Test set\n"
     ]
    },
    {
     "data": {
      "text/html": [
       "<div>\n",
       "<style scoped>\n",
       "    .dataframe tbody tr th:only-of-type {\n",
       "        vertical-align: middle;\n",
       "    }\n",
       "\n",
       "    .dataframe tbody tr th {\n",
       "        vertical-align: top;\n",
       "    }\n",
       "\n",
       "    .dataframe thead th {\n",
       "        text-align: right;\n",
       "    }\n",
       "</style>\n",
       "<table border=\"1\" class=\"dataframe\">\n",
       "  <thead>\n",
       "    <tr style=\"text-align: right;\">\n",
       "      <th></th>\n",
       "      <th>question_type</th>\n",
       "      <th>count</th>\n",
       "      <th>percentage</th>\n",
       "    </tr>\n",
       "  </thead>\n",
       "  <tbody>\n",
       "    <tr>\n",
       "      <th>0</th>\n",
       "      <td>What</td>\n",
       "      <td>450</td>\n",
       "      <td>36.00</td>\n",
       "    </tr>\n",
       "    <tr>\n",
       "      <th>1</th>\n",
       "      <td>Which</td>\n",
       "      <td>298</td>\n",
       "      <td>23.84</td>\n",
       "    </tr>\n",
       "    <tr>\n",
       "      <th>2</th>\n",
       "      <td>How much</td>\n",
       "      <td>178</td>\n",
       "      <td>14.24</td>\n",
       "    </tr>\n",
       "    <tr>\n",
       "      <th>3</th>\n",
       "      <td>Who</td>\n",
       "      <td>154</td>\n",
       "      <td>12.32</td>\n",
       "    </tr>\n",
       "    <tr>\n",
       "      <th>4</th>\n",
       "      <td>When</td>\n",
       "      <td>102</td>\n",
       "      <td>8.16</td>\n",
       "    </tr>\n",
       "    <tr>\n",
       "      <th>5</th>\n",
       "      <td>Where</td>\n",
       "      <td>34</td>\n",
       "      <td>2.72</td>\n",
       "    </tr>\n",
       "    <tr>\n",
       "      <th>6</th>\n",
       "      <td>Other</td>\n",
       "      <td>30</td>\n",
       "      <td>2.40</td>\n",
       "    </tr>\n",
       "    <tr>\n",
       "      <th>7</th>\n",
       "      <td>Why</td>\n",
       "      <td>4</td>\n",
       "      <td>0.32</td>\n",
       "    </tr>\n",
       "  </tbody>\n",
       "</table>\n",
       "</div>"
      ],
      "text/plain": [
       "  question_type  count  percentage\n",
       "0          What    450       36.00\n",
       "1         Which    298       23.84\n",
       "2      How much    178       14.24\n",
       "3           Who    154       12.32\n",
       "4          When    102        8.16\n",
       "5         Where     34        2.72\n",
       "6         Other     30        2.40\n",
       "7           Why      4        0.32"
      ]
     },
     "execution_count": 17,
     "metadata": {},
     "output_type": "execute_result"
    }
   ],
   "source": [
    "print('Translated Test set')\n",
    "classify_questions(test)"
   ]
  },
  {
   "cell_type": "code",
   "execution_count": 19,
   "metadata": {},
   "outputs": [
    {
     "name": "stdout",
     "output_type": "stream",
     "text": [
      "Seed dataset\n"
     ]
    },
    {
     "data": {
      "text/html": [
       "<div>\n",
       "<style scoped>\n",
       "    .dataframe tbody tr th:only-of-type {\n",
       "        vertical-align: middle;\n",
       "    }\n",
       "\n",
       "    .dataframe tbody tr th {\n",
       "        vertical-align: top;\n",
       "    }\n",
       "\n",
       "    .dataframe thead th {\n",
       "        text-align: right;\n",
       "    }\n",
       "</style>\n",
       "<table border=\"1\" class=\"dataframe\">\n",
       "  <thead>\n",
       "    <tr style=\"text-align: right;\">\n",
       "      <th></th>\n",
       "      <th>question_type</th>\n",
       "      <th>count</th>\n",
       "      <th>percentage</th>\n",
       "    </tr>\n",
       "  </thead>\n",
       "  <tbody>\n",
       "    <tr>\n",
       "      <th>0</th>\n",
       "      <td>What</td>\n",
       "      <td>110</td>\n",
       "      <td>36.184211</td>\n",
       "    </tr>\n",
       "    <tr>\n",
       "      <th>1</th>\n",
       "      <td>Which</td>\n",
       "      <td>75</td>\n",
       "      <td>24.671053</td>\n",
       "    </tr>\n",
       "    <tr>\n",
       "      <th>2</th>\n",
       "      <td>How much</td>\n",
       "      <td>43</td>\n",
       "      <td>14.144737</td>\n",
       "    </tr>\n",
       "    <tr>\n",
       "      <th>3</th>\n",
       "      <td>Who</td>\n",
       "      <td>35</td>\n",
       "      <td>11.513158</td>\n",
       "    </tr>\n",
       "    <tr>\n",
       "      <th>4</th>\n",
       "      <td>When</td>\n",
       "      <td>21</td>\n",
       "      <td>6.907895</td>\n",
       "    </tr>\n",
       "    <tr>\n",
       "      <th>5</th>\n",
       "      <td>Other</td>\n",
       "      <td>18</td>\n",
       "      <td>5.921053</td>\n",
       "    </tr>\n",
       "    <tr>\n",
       "      <th>6</th>\n",
       "      <td>Why</td>\n",
       "      <td>1</td>\n",
       "      <td>0.328947</td>\n",
       "    </tr>\n",
       "    <tr>\n",
       "      <th>7</th>\n",
       "      <td>Where</td>\n",
       "      <td>1</td>\n",
       "      <td>0.328947</td>\n",
       "    </tr>\n",
       "  </tbody>\n",
       "</table>\n",
       "</div>"
      ],
      "text/plain": [
       "  question_type  count  percentage\n",
       "0          What    110   36.184211\n",
       "1         Which     75   24.671053\n",
       "2      How much     43   14.144737\n",
       "3           Who     35   11.513158\n",
       "4          When     21    6.907895\n",
       "5         Other     18    5.921053\n",
       "6           Why      1    0.328947\n",
       "7         Where      1    0.328947"
      ]
     },
     "execution_count": 19,
     "metadata": {},
     "output_type": "execute_result"
    }
   ],
   "source": [
    "print('Seed dataset')\n",
    "classify_questions(Seed)"
   ]
  },
  {
   "cell_type": "markdown",
   "metadata": {},
   "source": [
    "### Length Analysis of Questions, Answers and Context"
   ]
  },
  {
   "cell_type": "code",
   "execution_count": 20,
   "metadata": {},
   "outputs": [],
   "source": [
    "def compute_lengths(df, question_col, context_col, answer_start_col, answer_text_col):\n",
    "    # Question Length (in words)\n",
    "    df['question_length'] = df[question_col].apply(lambda x: len(x.split()))\n",
    "    \n",
    "    # Context Length (in words)\n",
    "    df['context_length'] = df[context_col].apply(lambda x: len(x.split()))\n",
    "    \n",
    "    # Answer Length (in words)\n",
    "    df['answer_length'] = df.apply(lambda row: len(row[answer_text_col].split()) if pd.notna(row[answer_text_col]) else 0, axis=1)\n",
    "\n",
    "    return df"
   ]
  },
  {
   "cell_type": "code",
   "execution_count": 22,
   "metadata": {},
   "outputs": [],
   "source": [
    "test = compute_lengths(test, 'question', 'context', 'answer_start', 'answer_text')\n",
    "train = compute_lengths(train, 'question', 'context', 'answer_start', 'answer_text')\n",
    "dev = compute_lengths(dev, 'question', 'context', 'answer_start', 'answer_text')\n",
    "seed = compute_lengths(Seed, 'question', 'context', 'answer_start', 'answer_text')\n",
    "en_df = compute_lengths(En_df, 'question', 'context', 'answer_start', 'answer_text')    "
   ]
  },
  {
   "cell_type": "code",
   "execution_count": 23,
   "metadata": {},
   "outputs": [],
   "source": [
    "test_stats = test[['question_length', 'context_length', 'answer_length']].describe()\n",
    "train_stats = train[['question_length', 'context_length', 'answer_length']].describe()\n",
    "dev_stats = dev[['question_length', 'context_length', 'answer_length']].describe()\n",
    "seed_stats = seed[['question_length', 'context_length', 'answer_length']].describe()\n",
    "en_stats = en_df[['question_length', 'context_length', 'answer_length']].describe()"
   ]
  },
  {
   "cell_type": "code",
   "execution_count": 24,
   "metadata": {},
   "outputs": [
    {
     "name": "stdout",
     "output_type": "stream",
     "text": [
      "\n",
      "Test Dataset Stats:\n",
      "        question_length  context_length  answer_length\n",
      "count      1250.000000     1250.000000    1250.000000\n",
      "mean          8.604000       98.406400       2.288800\n",
      "std           3.054218       37.637855       1.963384\n",
      "min           3.000000       13.000000       1.000000\n",
      "25%           6.000000       77.000000       1.000000\n",
      "50%           8.000000       92.000000       2.000000\n",
      "75%          10.000000      116.000000       3.000000\n",
      "max          28.000000      285.000000      23.000000\n",
      "\n",
      "Train Dataset Stats:\n",
      "        question_length  context_length  answer_length\n",
      "count     13500.000000    13500.000000   13500.000000\n",
      "mean          8.620667       98.385852       2.263852\n",
      "std           3.110176       38.199351       1.902236\n",
      "min           2.000000        9.000000       1.000000\n",
      "25%           6.000000       76.000000       1.000000\n",
      "50%           8.000000       92.000000       2.000000\n",
      "75%          10.000000      115.000000       3.000000\n",
      "max          33.000000      393.000000      23.000000\n",
      "\n",
      "Dev Dataset Stats:\n",
      "        question_length  context_length  answer_length\n",
      "count      1250.000000     1250.000000    1250.000000\n",
      "mean          8.572000       98.140800       2.314400\n",
      "std           2.914311       38.621951       2.186545\n",
      "min           3.000000       18.000000       1.000000\n",
      "25%           6.000000       76.000000       1.000000\n",
      "50%           8.000000       92.000000       2.000000\n",
      "75%          10.000000      115.000000       3.000000\n",
      "max          21.000000      325.000000      23.000000\n",
      "\n",
      "Seed Dataset Stats:\n",
      "        question_length  context_length  answer_length\n",
      "count       304.000000      304.000000     304.000000\n",
      "mean          8.302632       85.641447       3.848684\n",
      "std           3.116102       41.623169       3.333518\n",
      "min           4.000000       27.000000       1.000000\n",
      "25%           6.000000       52.000000       2.000000\n",
      "50%           8.000000       77.000000       3.000000\n",
      "75%          10.000000      111.000000       4.000000\n",
      "max          22.000000      227.000000      25.000000\n",
      "\n",
      "English Dataset Stats:\n",
      "        question_length  context_length  answer_length\n",
      "count     87596.000000    87596.000000   87596.000000\n",
      "mean         10.061064      119.762832       3.162233\n",
      "std           3.559231       49.365597       3.392368\n",
      "min           1.000000       20.000000       1.000000\n",
      "25%           8.000000       89.000000       1.000000\n",
      "50%          10.000000      110.000000       2.000000\n",
      "75%          12.000000      142.000000       3.000000\n",
      "max          40.000000      653.000000      43.000000\n"
     ]
    }
   ],
   "source": [
    "print(\"\\nTest Dataset Stats:\\n\", test_stats)\n",
    "print(\"\\nTrain Dataset Stats:\\n\", train_stats)\n",
    "print(\"\\nDev Dataset Stats:\\n\", dev_stats)  \n",
    "print(\"\\nSeed Dataset Stats:\\n\", seed_stats)  # Uncomment if seed dataset is available\n",
    "print(\"\\nEnglish Dataset Stats:\\n\", en_stats)"
   ]
  },
  {
   "cell_type": "code",
   "execution_count": 26,
   "metadata": {},
   "outputs": [
    {
     "data": {
      "image/png": "[encoded data removed]",
      "text/plain": [
       "<Figure size 1500x800 with 9 Axes>"
      ]
     },
     "metadata": {},
     "output_type": "display_data"
    }
   ],
   "source": [
    "# plot setup\n",
    "plt.figure(figsize=(15, 8))\n",
    "\n",
    "# Plot Train Dataset - Question Length Distribution\n",
    "plt.subplot(3, 3, 1)\n",
    "sns.histplot(train['question_length'], bins=20, kde=True, color='blue')\n",
    "plt.title(\"Translated Sinhala Dataset - Question Length Distribution\")\n",
    "plt.xlabel(\"Question Length\")\n",
    "plt.ylabel(\"Frequency\")\n",
    "\n",
    "# Plot Train Dataset - Answer Length Distribution\n",
    "plt.subplot(3, 3, 2)\n",
    "sns.histplot(train['answer_length'].apply(lambda x: sum(x) if isinstance(x, list) else x), bins=20, kde=True, color='green')\n",
    "plt.title(\"Translated Sinhala Dataset - Answer Length Distribution\")\n",
    "plt.xlabel(\"Answer Length\")\n",
    "plt.ylabel(\"Frequency\")\n",
    "\n",
    "# Plot Train Dataset - Context Length Distribution\n",
    "plt.subplot(3, 3, 3)\n",
    "sns.histplot(train['context_length'], bins=20, kde=True, color='red')\n",
    "plt.title(\"Translated Sinhala Dataset - Context Length Distribution\")\n",
    "plt.xlabel(\"Context Length\")\n",
    "plt.ylabel(\"Frequency\")\n",
    "\n",
    "\n",
    "# Plot seed Dataset - Question Length Distribution\n",
    "plt.subplot(3, 3, 4)\n",
    "sns.histplot(seed['question_length'], bins=20, kde=True, color='blue')\n",
    "plt.title(\"Seed - Question Length Distribution\")\n",
    "plt.xlabel(\"Question Length\")\n",
    "plt.ylabel(\"Frequency\")\n",
    "\n",
    "# Plot seed Dataset - Answer Length Distribution\n",
    "plt.subplot(3, 3, 5)\n",
    "sns.histplot(seed['answer_length'].apply(lambda x: sum(x) if isinstance(x, list) else x), bins=20, kde=True, color='green')\n",
    "plt.title(\"Seed - Answer Length Distribution\")\n",
    "plt.xlabel(\"Answer Length\")\n",
    "plt.ylabel(\"Frequency\")\n",
    "\n",
    "# Plot seed Dataset - Context Length Distribution\n",
    "plt.subplot(3, 3, 6)\n",
    "sns.histplot(seed['context_length'], bins=20, kde=True, color='red')\n",
    "plt.title(\"Seed- Context Length Distribution\")\n",
    "plt.xlabel(\"Context Length\")\n",
    "plt.ylabel(\"Frequency\")\n",
    "\n",
    "# Plot English Dataset - Question Length Distribution\n",
    "plt.subplot(3, 3, 7)\n",
    "sns.histplot(en_df['question_length'], bins=20, kde=True, color='blue')\n",
    "plt.title(\"SQUAD v1.1 - Question Length Distribution\")\n",
    "plt.xlabel(\"Question Length\")\n",
    "plt.ylabel(\"Frequency\")\n",
    "\n",
    "# Plot English Dataset - Answer Length Distribution\n",
    "plt.subplot(3, 3, 8)\n",
    "sns.histplot(en_df['answer_length'].apply(lambda x: sum(x) if isinstance(x, list) else x), bins=20, kde=True, color='green')\n",
    "plt.title(\"SQUAD v1.1 - Answer Length Distribution\")\n",
    "plt.xlabel(\"Answer Length\")\n",
    "plt.ylabel(\"Frequency\")\n",
    "\n",
    "# Plot English Dataset - Context Length Distribution\n",
    "plt.subplot(3, 3, 9)\n",
    "sns.histplot(en_df['context_length'], bins=20, kde=True, color='red')\n",
    "plt.title(\"SQUAD v1.1- Context Length Distribution\")\n",
    "plt.xlabel(\"Context Length\")\n",
    "plt.ylabel(\"Frequency\")\n",
    "\n",
    "# Adjust layout to prevent overlap\n",
    "plt.tight_layout()\n",
    "plt.show()\n"
   ]
  },
  {
   "cell_type": "code",
   "execution_count": 27,
   "metadata": {},
   "outputs": [
    {
     "name": "stdout",
     "output_type": "stream",
     "text": [
      "Mean Difference in Lengths:\n",
      "Question Length: 1.4403977654991849\n",
      "Context Length: 21.376979784295912\n",
      "Answer Length: 0.898381583464829\n"
     ]
    }
   ],
   "source": [
    "# Mean difference between English and Sinhala for question, context, and answer lengths\n",
    "mean_diff_question = en_df['question_length'].mean() - train['question_length'].mean()\n",
    "mean_diff_context = en_df['context_length'].mean() - train['context_length'].mean()\n",
    "mean_diff_answer = en_df['answer_length'].mean() - train['answer_length'].mean()\n",
    "\n",
    "print(\"Mean Difference in Lengths:\")\n",
    "print(f\"Question Length: {mean_diff_question}\")\n",
    "print(f\"Context Length: {mean_diff_context}\")\n",
    "print(f\"Answer Length: {mean_diff_answer}\")"
   ]
  },
  {
   "cell_type": "code",
   "execution_count": 29,
   "metadata": {},
   "outputs": [
    {
     "name": "stdout",
     "output_type": "stream",
     "text": [
      "Mean Difference in Lengths:\n",
      "Question Length: 0.31803508771929856\n",
      "Context Length: 12.744404483430799\n",
      "Answer Length: -1.584832358674464\n"
     ]
    }
   ],
   "source": [
    "# Mean difference between translated datasets and seed dataset for question, context, and answer lengths\n",
    "mean_diff_question = train['question_length'].mean() - seed['question_length'].mean()\n",
    "mean_diff_context = train['context_length'].mean() - seed['context_length'].mean()\n",
    "mean_diff_answer = train['answer_length'].mean() - seed['answer_length'].mean()\n",
    "\n",
    "print(\"Mean Difference in Lengths:\")\n",
    "print(f\"Question Length: {mean_diff_question}\")\n",
    "print(f\"Context Length: {mean_diff_context}\")\n",
    "print(f\"Answer Length: {mean_diff_answer}\")"
   ]
  },
  {
   "cell_type": "markdown",
   "metadata": {},
   "source": [
    "### Summary stats"
   ]
  },
  {
   "cell_type": "code",
   "execution_count": 30,
   "metadata": {},
   "outputs": [
    {
     "name": "stdout",
     "output_type": "stream",
     "text": [
      "Number of unique questions: 13472\n",
      "Number of unique contexts: 5911\n",
      "Number of unique answers: 10370\n"
     ]
    }
   ],
   "source": [
    "question_count = train['question'].nunique()\n",
    "context_count = train['context'].nunique()\n",
    "answer_count = train['answer_text'].nunique()\n",
    "\n",
    "print(f\"Number of unique questions: {question_count}\")\n",
    "print(f\"Number of unique contexts: {context_count}\")\n",
    "print(f\"Number of unique answers: {answer_count}\")"
   ]
  },
  {
   "cell_type": "code",
   "execution_count": 31,
   "metadata": {},
   "outputs": [
    {
     "name": "stdout",
     "output_type": "stream",
     "text": [
      "Number of unique questions: 1250\n",
      "Number of unique contexts: 1136\n",
      "Number of unique answers: 1176\n"
     ]
    }
   ],
   "source": [
    "question_count = test['question'].nunique()\n",
    "context_count = test['context'].nunique()\n",
    "answer_count = test['answer_text'].nunique()\n",
    "\n",
    "print(f\"Number of unique questions: {question_count}\")\n",
    "print(f\"Number of unique contexts: {context_count}\")\n",
    "print(f\"Number of unique answers: {answer_count}\")"
   ]
  },
  {
   "cell_type": "code",
   "execution_count": 32,
   "metadata": {},
   "outputs": [
    {
     "name": "stdout",
     "output_type": "stream",
     "text": [
      "Number of unique questions: 1250\n",
      "Number of unique contexts: 1141\n",
      "Number of unique answers: 1173\n"
     ]
    }
   ],
   "source": [
    "question_count = dev['question'].nunique()\n",
    "context_count = dev['context'].nunique()\n",
    "answer_count = dev['answer_text'].nunique()\n",
    "\n",
    "print(f\"Number of unique questions: {question_count}\")\n",
    "print(f\"Number of unique contexts: {context_count}\")\n",
    "print(f\"Number of unique answers: {answer_count}\")"
   ]
  },
  {
   "cell_type": "code",
   "execution_count": 33,
   "metadata": {},
   "outputs": [
    {
     "name": "stdout",
     "output_type": "stream",
     "text": [
      "Number of unique questions: 302\n",
      "Number of unique contexts: 187\n",
      "Number of unique answers: 301\n"
     ]
    }
   ],
   "source": [
    "question_count = Seed['question'].nunique()\n",
    "context_count = Seed['context'].nunique()\n",
    "answer_count = Seed['answer_text'].nunique()\n",
    "\n",
    "print(f\"Number of unique questions: {question_count}\")\n",
    "print(f\"Number of unique contexts: {context_count}\")\n",
    "print(f\"Number of unique answers: {answer_count}\")"
   ]
  },
  {
   "cell_type": "code",
   "execution_count": 34,
   "metadata": {},
   "outputs": [],
   "source": [
    "# Function to plot question type distribution\n",
    "def plot_question_type_distribution(data):\n",
    "\n",
    "    df = pd.DataFrame(data)\n",
    "\n",
    "    # Create the figure\n",
    "    plt.figure(figsize=(4, 3))\n",
    "\n",
    "    # Plot with seaborn\n",
    "    ax = sns.barplot(x='question_type', y='percentage', data=df, palette='seismic', width=0.7)\n",
    "\n",
    "    # Customize aesthetics\n",
    "    plt.title('Question Type Distribution', fontsize=10, fontweight='bold')\n",
    "    plt.xlabel('Question Type', fontsize=7, fontweight='bold')\n",
    "    plt.ylabel('Percentage (%)', fontsize=7, fontweight='bold')\n",
    "    plt.xticks(fontsize=7)\n",
    "    plt.yticks(fontsize=7)\n",
    "    sns.despine()\n",
    "    plt.tight_layout()\n",
    "    plt.show()"
   ]
  },
  {
   "cell_type": "code",
   "execution_count": 35,
   "metadata": {},
   "outputs": [
    {
     "name": "stderr",
     "output_type": "stream",
     "text": [
      "C:\\Users\\MSI\\AppData\\Local\\Temp\\ipykernel_10172\\3051893508.py:10: FutureWarning: \n",
      "\n",
      "Passing `palette` without assigning `hue` is deprecated and will be removed in v0.14.0. Assign the `x` variable to `hue` and set `legend=False` for the same effect.\n",
      "\n",
      "  ax = sns.barplot(x='question_type', y='percentage', data=df, palette='seismic', width=0.7)\n"
     ]
    },
    {
     "data": {
      "image/png": "[encoded data removed]",
      "text/plain": [
       "<Figure size 400x300 with 1 Axes>"
      ]
     },
     "metadata": {},
     "output_type": "display_data"
    }
   ],
   "source": [
    "train_data = {\n",
    "    'question_type': ['What', 'Which', 'How much', 'Who', 'When', 'Where', 'Other', 'Why'],\n",
    "    'count': [5175, 3023, 1744, 1638, 1030, 419, 393, 78],\n",
    "    'percentage': [38.33, 22.39, 12.92, 12.13, 7.63, 3.10, 2.91, 0.58]\n",
    "}\n",
    "\n",
    "plot_question_type_distribution(train_data)"
   ]
  },
  {
   "cell_type": "code",
   "execution_count": 36,
   "metadata": {},
   "outputs": [
    {
     "name": "stderr",
     "output_type": "stream",
     "text": [
      "C:\\Users\\MSI\\AppData\\Local\\Temp\\ipykernel_10172\\3051893508.py:10: FutureWarning: \n",
      "\n",
      "Passing `palette` without assigning `hue` is deprecated and will be removed in v0.14.0. Assign the `x` variable to `hue` and set `legend=False` for the same effect.\n",
      "\n",
      "  ax = sns.barplot(x='question_type', y='percentage', data=df, palette='seismic', width=0.7)\n"
     ]
    },
    {
     "data": {
      "image/png": "[encoded data removed]",
      "text/plain": [
       "<Figure size 400x300 with 1 Axes>"
      ]
     },
     "metadata": {},
     "output_type": "display_data"
    }
   ],
   "source": [
    "Seed_data = {\n",
    "    'question_type': ['What', 'Which', 'How much', 'Who', 'When', 'Other', 'Why', 'Where'],\n",
    "    'count': [110, 75, 43, 35, 21, 18, 1, 1],\n",
    "    'percentage': [36.18, 24.67, 14.14, 11.51, 6.91, 5.92, 0.33, 0.33]\n",
    "}\n",
    "\n",
    "plot_question_type_distribution(Seed_data)"
   ]
  }
 ],
 "metadata": {
  "kernelspec": {
   "display_name": ".venv",
   "language": "python",
   "name": "python3"
  },
  "language_info": {
   "codemirror_mode": {
    "name": "ipython",
    "version": 3
   },
   "file_extension": ".py",
   "mimetype": "text/x-python",
   "name": "python",
   "nbconvert_exporter": "python",
   "pygments_lexer": "ipython3",
   "version": "3.10.0"
  }
 },
 "nbformat": 4,
 "nbformat_minor": 2
}
